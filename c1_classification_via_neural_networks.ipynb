{
 "cells": [
  {
   "cell_type": "markdown",
   "metadata": {},
   "source": [
    "# NEURAL NETWORKS FOR TIME SERIES CLASSIFICATION\n",
    "\n",
    "Welcome to Part 3 of our series about *time series classification*. In this series we want to show how data, e.g. from sensors, can be analyzed using machine learning and AI (Artificial Intelligence) techniques. \n",
    "\n",
    "Time series classification is a possible starting point to get an idea how complex applications in practice can be approached using AI. Such applications are for example anomaly detection, remaining useful life estimation, predictive maintenance, etc. \n",
    "\n",
    "**What is time series classification?**\n",
    "\n",
    "Time series can be measurements of signals like temperature, pressure, voltage, etc. These signals can be univariate or multivariate data. Usually, the data consist of of $K$ (e.g. $K=6$) different classes. And here's the key question: \n",
    "\n",
    "*Can we find a function that predicts the class for a new, unknown measurement data signal?* \n",
    "\n",
    "For a formal definition, the interested reader may be referred to (Fawaz et al. 2019). There are different approaches to get such a function. In this blog we want to focus on the approach known as ***neural networks for classification***. The interested reader may refer to (Fawaz et al. 2019) to get more information about this topic."
   ]
  },
  {
   "cell_type": "markdown",
   "metadata": {},
   "source": [
    "Let's import some standard libraries:"
   ]
  },
  {
   "cell_type": "code",
   "execution_count": 1,
   "metadata": {},
   "outputs": [
    {
     "name": "stderr",
     "output_type": "stream",
     "text": [
      "In C:\\ProgramData\\Anaconda3\\lib\\site-packages\\matplotlib\\mpl-data\\stylelib\\_classic_test.mplstyle: \n",
      "The savefig.frameon rcparam was deprecated in Matplotlib 3.1 and will be removed in 3.3.\n",
      "In C:\\ProgramData\\Anaconda3\\lib\\site-packages\\matplotlib\\mpl-data\\stylelib\\_classic_test.mplstyle: \n",
      "The verbose.level rcparam was deprecated in Matplotlib 3.1 and will be removed in 3.3.\n",
      "In C:\\ProgramData\\Anaconda3\\lib\\site-packages\\matplotlib\\mpl-data\\stylelib\\_classic_test.mplstyle: \n",
      "The verbose.fileo rcparam was deprecated in Matplotlib 3.1 and will be removed in 3.3.\n"
     ]
    }
   ],
   "source": [
    "import pandas as pd\n",
    "import numpy as np\n",
    "from pathlib import Path\n",
    "import matplotlib.pyplot as plt\n",
    "import os\n",
    "import sklearn\n",
    "import tensorflow as tf\n",
    "import urllib.request\n",
    "import zipfile"
   ]
  },
  {
   "cell_type": "code",
   "execution_count": 2,
   "metadata": {},
   "outputs": [
    {
     "name": "stdout",
     "output_type": "stream",
     "text": [
      "1.14.0\n",
      "2.2.4-tf\n"
     ]
    }
   ],
   "source": [
    "print(tf.__version__)\n",
    "print(tf.keras.__version__)"
   ]
  },
  {
   "cell_type": "markdown",
   "metadata": {},
   "source": [
    "# 1) The UCI HAR dataset\n",
    "\n",
    "In literature, there exist many datasets to compare different algorithms. We chose one of these datasets to illustrate the ideas of machine learning and artificial intelligence. \n",
    "\n",
    "### Description of the dataset\n",
    "\n",
    "The UCI HAR dataset is built from the recordings of performing activities while carrying a waist-mounted smartphone with embedded inertial sensors. More info about the signals can be found here: https://archive.ics.uci.edu/ml/datasets/human+activity+recognition+using+smartphones.\n",
    "\n",
    "Basically, we have $K=6$ activities (= classes):\n",
    "\n",
    "- 1: WALKING\n",
    "- 2: WALKING_UPSTAIRS\n",
    "- 3: WALKING_DOWNSTAIRS\n",
    "- 4: SITTING\n",
    "- 5: STANDING\n",
    "- 6: LAYING.\n",
    "\n",
    "For each movement, we have $3\\cdot 3=9$ signals:\n",
    "- body acceleration (x, y and z direction)\n",
    "- body gyro (x, y and z direction)\n",
    "- total acceleration (x, y and z direction)."
   ]
  },
  {
   "cell_type": "markdown",
   "metadata": {},
   "source": [
    "### Downloading the UCI HAR dataset\n",
    "\n",
    "First, we *download* the data from https://archive.ics.uci.edu/ml/datasets/human+activity+recognition+using+smartphones and *unzip* the data.\n",
    "\n",
    "Depending on your internet connection this may take a few seconds:"
   ]
  },
  {
   "cell_type": "code",
   "execution_count": 3,
   "metadata": {},
   "outputs": [
    {
     "data": {
      "text/plain": [
       "('HAR_Dataset.zip', <http.client.HTTPMessage at 0x1e3b2d8b400>)"
      ]
     },
     "execution_count": 3,
     "metadata": {},
     "output_type": "execute_result"
    }
   ],
   "source": [
    "# download\n",
    "url = \"https://archive.ics.uci.edu/ml/machine-learning-databases/00240/UCI%20HAR%20Dataset.zip\"\n",
    "urllib.request.urlretrieve(url, \"HAR_Dataset.zip\")"
   ]
  },
  {
   "cell_type": "code",
   "execution_count": 4,
   "metadata": {},
   "outputs": [],
   "source": [
    "# unzip\n",
    "with zipfile.ZipFile(\"./HAR_Dataset.zip\", 'r') as zip_ref:\n",
    "    zip_ref.extractall(path=\".\")"
   ]
  },
  {
   "cell_type": "markdown",
   "metadata": {},
   "source": [
    "### Reading the UCI HAR dataset\n",
    "\n",
    "Let's read the data we downloaded.\n",
    "\n",
    "We obtain a signal X_train (y_test) with:\n",
    "- 7352 measurements,\n",
    "- measurement length 128,\n",
    "- 9 signals for each measurement.\n",
    "\n",
    "Also, we get y_train:\n",
    "- 7352 labels."
   ]
  },
  {
   "cell_type": "code",
   "execution_count": 5,
   "metadata": {},
   "outputs": [
    {
     "name": "stdout",
     "output_type": "stream",
     "text": [
      "(7352, 128, 9)\n",
      "(7352, 1)\n"
     ]
    }
   ],
   "source": [
    "def read_uci_har_data(start_path):\n",
    "    X_train, X_test, = [], []\n",
    "    # read the train signal data\n",
    "    for input_file in os.listdir(start_path + '/UCI HAR Dataset/train/Inertial Signals'):\n",
    "        my_signal = pd.read_csv(start_path + '/UCI HAR Dataset/train/Inertial Signals/' + input_file, header=None, delim_whitespace=True)\n",
    "        X_train.append(my_signal.to_numpy())\n",
    "    X_train = np.transpose(np.array(X_train), (1, 2, 0))\n",
    "    # read the test signal data\n",
    "    for input_file in os.listdir(start_path + '/UCI HAR Dataset/test/Inertial Signals/'):\n",
    "        my_signal = pd.read_csv(start_path + '/UCI HAR Dataset/test/Inertial Signals/' + input_file, header=None, delim_whitespace=True)\n",
    "        X_test.append(my_signal.to_numpy())\n",
    "    X_test = np.transpose(np.array(X_test), (1, 2, 0))\n",
    "    # read the labels\n",
    "    y_train = pd.read_csv(start_path + '/UCI HAR Dataset/train/y_train.txt', header=None).to_numpy()\n",
    "    y_test = pd.read_csv(start_path + '/UCI HAR Dataset/test/y_test.txt', header=None).to_numpy()\n",
    "    return X_train, X_test,y_train,y_test\n",
    "\n",
    "X_train, X_test,y_train,y_test = read_uci_har_data(\".\")\n",
    "print(X_train.shape)  # should be (7352, 128, 9)\n",
    "print(y_train.shape)  # should be (7352,1)"
   ]
  },
  {
   "cell_type": "markdown",
   "metadata": {},
   "source": [
    "## 2) Preparing the data for the TensorFlow library\n",
    "\n",
    "TensorFlow is a common library in machine learning (https://www.tensorflow.org/ ). It is used in many application domains, such a medicine, engineering, image processing and so on. Applications are, for example, prediction, translations, BLABLA. The codes under the surface are highly efficient and the TensorFlow library became a standard tool for neural networks.\n",
    "\n",
    "### Preparing the data for the TensorFlow library\n",
    "\n",
    "Whenever you want to use data for the TensorFlow library you need to get your data in an order so that the library can be applied. These restrictions are:\n",
    "\n",
    "- each multivariate measurement must be transformed to a **one dimensional vector** (see plot below)\n",
    "- also, each measurment should more or less look like standard normally distributed data, in other words it be **normalized to mean 0 and standard deviation 1**\n",
    "- the labels must be a **one dimensional vector**\n",
    "- the labels must be values **starting by 0** (note, that in our case we already have integer values, but they start by 1)"
   ]
  },
  {
   "cell_type": "markdown",
   "metadata": {},
   "source": [
    "All these preparations can be done in a few number of lines of codes. \n",
    "\n",
    "Let's prepare our data for the neural network."
   ]
  },
  {
   "cell_type": "code",
   "execution_count": 6,
   "metadata": {},
   "outputs": [
    {
     "name": "stdout",
     "output_type": "stream",
     "text": [
      "(7352, 128, 9)\n"
     ]
    }
   ],
   "source": [
    "print(X_train.shape)"
   ]
  },
  {
   "cell_type": "code",
   "execution_count": 7,
   "metadata": {},
   "outputs": [
    {
     "name": "stdout",
     "output_type": "stream",
     "text": [
      "(7352, 1152)\n",
      "0.11537594842792709\n",
      "0.3243178451795317\n"
     ]
    }
   ],
   "source": [
    "# transform to one dimensional vectors - run only once\n",
    "X_train = np.reshape(X_train,(X_train.shape[0],X_train.shape[1]*X_train.shape[2]),order='F')\n",
    "X_test = np.reshape(X_test,(X_test.shape[0],X_test.shape[1]*X_test.shape[2]),order='F')\n",
    "print(X_train.shape)\n",
    "print(X_train[0].mean())\n",
    "print(X_train[0].std())"
   ]
  },
  {
   "cell_type": "code",
   "execution_count": 8,
   "metadata": {},
   "outputs": [
    {
     "name": "stdout",
     "output_type": "stream",
     "text": [
      "(7352, 1152)\n",
      "6.04038642342305e-20\n",
      "1.0000000000000002\n",
      "-0.007139643038015652\n",
      "0.9540409710015257\n"
     ]
    }
   ],
   "source": [
    "# normalize to mean 0 and standard deviation 1 - run only once\n",
    "from sklearn import preprocessing\n",
    "scaler = preprocessing.StandardScaler()\n",
    "X_train = scaler.fit_transform(X_train)\n",
    "X_test = scaler.transform(X_test)\n",
    "print(X_train.shape)\n",
    "# should be exactly 0 and 1\n",
    "print(X_train.mean())\n",
    "print(X_train.std())\n",
    "# should be around 0 and 1\n",
    "print(X_test.mean())\n",
    "print(X_test.std())"
   ]
  },
  {
   "cell_type": "code",
   "execution_count": 9,
   "metadata": {},
   "outputs": [
    {
     "name": "stdout",
     "output_type": "stream",
     "text": [
      "1\n",
      "6\n",
      "0\n",
      "5\n"
     ]
    }
   ],
   "source": [
    "# one dimensional vector starting by 0 - run only once\n",
    "print(y_train.min()) # should be 1\n",
    "print(y_train.max()) # should be 6\n",
    "# labels must be integers starting by 0\n",
    "y_train = y_train-1 \n",
    "# labels must be converted to 1-dimensional row vector\n",
    "y_train = y_train.flatten()\n",
    "print(y_train.min()) # should be 0\n",
    "print(y_train.max()) # should be 5"
   ]
  },
  {
   "cell_type": "markdown",
   "metadata": {},
   "source": [
    "Same procedure for the test data:"
   ]
  },
  {
   "cell_type": "code",
   "execution_count": 10,
   "metadata": {},
   "outputs": [],
   "source": [
    "# same procedure for the test data\n",
    "y_test = y_test-1 \n",
    "# labels must be converted to 1-dimensional row vector\n",
    "y_test = y_test.flatten()"
   ]
  },
  {
   "cell_type": "markdown",
   "metadata": {},
   "source": [
    "## 3) Using neural networks for machine learning\n",
    "\n",
    "\n",
    "Let's briefly consider the structure of a neural network: \n",
    "<img src=\"Images/NeuralNetwork1.png\" width=\"350\"/>\n",
    "\n",
    "Usually, a neural network has an **input layer** (green). In our case, the input layer consists of $128\\cdot 9=1152$ neurons.\n",
    "\n",
    "A neural network also has **hidden layer(s)** (blue). In the picture above, we have only one hidden layer. We will see later what it means if we add another hidden layer. The number of neurons in the hidden layer can be chosen arbitrarily. Usually, number like $2^5=32,2^6=64,\\cdots$ are taken to start.\n",
    "\n",
    "A neural network finally has an **output layer** (red). The number of output layers is the number of classes we want to predict, in our case $K=6$.\n",
    "\n",
    "The connections between the neurons are marked by arrows. In our case, we will set the arrows in *one direction only*. We also define the network as *dense*, meaning that each neuron is connected with every neuron from the next layer."
   ]
  },
  {
   "cell_type": "markdown",
   "metadata": {},
   "source": [
    "### Defining and compiling a 1-layer neural network\n",
    "\n",
    "Let's define a 1-layer neural network with TensorFlow."
   ]
  },
  {
   "cell_type": "code",
   "execution_count": 11,
   "metadata": {},
   "outputs": [
    {
     "name": "stdout",
     "output_type": "stream",
     "text": [
      "WARNING:tensorflow:From C:\\ProgramData\\Anaconda3\\lib\\site-packages\\tensorflow\\python\\ops\\init_ops.py:1251: calling VarianceScaling.__init__ (from tensorflow.python.ops.init_ops) with dtype is deprecated and will be removed in a future version.\n",
      "Instructions for updating:\n",
      "Call initializer instance with the dtype argument instead of passing it to the constructor\n"
     ]
    }
   ],
   "source": [
    "model1 = tf.keras.models.Sequential([\n",
    "  tf.keras.layers.Dense(32, activation='sigmoid'),  # 32: number of hidden neurons\n",
    "  tf.keras.layers.Dense(6, activation='sigmoid')    # 6: classes to predict\n",
    "])\n",
    "\n",
    "loss_fn = tf.keras.losses.SparseCategoricalCrossentropy(from_logits=True)"
   ]
  },
  {
   "cell_type": "markdown",
   "metadata": {},
   "source": [
    "Let's compile the model as a last step before we can run the model."
   ]
  },
  {
   "cell_type": "code",
   "execution_count": 12,
   "metadata": {},
   "outputs": [],
   "source": [
    "model1.compile(optimizer='adam',     # adam: standard optimization method\n",
    "              loss=loss_fn,          # loss function: as defined above\n",
    "              metrics=['accuracy'])"
   ]
  },
  {
   "cell_type": "markdown",
   "metadata": {},
   "source": [
    "### Train the model\n",
    "\n",
    "In order to check if the model is accurate, we split the distances in two parts called *training data* and *test data*. The idea behind the split is the following:\n",
    "\n",
    "- the *train data* are taken to train the model (i.e. find an optimal function for the prediction of the classes),\n",
    "- the *test data* are considered as new, unkown data (so we check if the model will also work for unknown data).\n",
    "\n",
    "Note, that the improvements of the model can be stored in a **history**. This is quite useful because when you continue with the training you can start by the last value you obtained from the last training. \n",
    "\n",
    "Let's train the model for 20 epochs and see if it is sufficient."
   ]
  },
  {
   "cell_type": "code",
   "execution_count": 13,
   "metadata": {},
   "outputs": [
    {
     "name": "stdout",
     "output_type": "stream",
     "text": [
      "Train on 7352 samples, validate on 2947 samples\n",
      "Epoch 1/20\n",
      "7352/7352 - 1s - loss: 1.5447 - acc: 0.6249 - val_loss: 1.4847 - val_acc: 0.6525\n",
      "Epoch 2/20\n",
      "7352/7352 - 1s - loss: 1.3999 - acc: 0.7835 - val_loss: 1.4227 - val_acc: 0.7150\n",
      "Epoch 3/20\n",
      "7352/7352 - 1s - loss: 1.3345 - acc: 0.8456 - val_loss: 1.3834 - val_acc: 0.7441\n",
      "Epoch 4/20\n",
      "7352/7352 - 1s - loss: 1.2876 - acc: 0.8735 - val_loss: 1.3533 - val_acc: 0.7492\n",
      "Epoch 5/20\n",
      "7352/7352 - 1s - loss: 1.2515 - acc: 0.8904 - val_loss: 1.3278 - val_acc: 0.7771\n",
      "Epoch 6/20\n",
      "7352/7352 - 1s - loss: 1.2236 - acc: 0.9006 - val_loss: 1.3116 - val_acc: 0.7777\n",
      "Epoch 7/20\n",
      "7352/7352 - 1s - loss: 1.2015 - acc: 0.9095 - val_loss: 1.2960 - val_acc: 0.7900\n",
      "Epoch 8/20\n",
      "7352/7352 - 1s - loss: 1.1843 - acc: 0.9147 - val_loss: 1.2864 - val_acc: 0.7920\n",
      "Epoch 9/20\n",
      "7352/7352 - 1s - loss: 1.1700 - acc: 0.9187 - val_loss: 1.2756 - val_acc: 0.8022\n",
      "Epoch 10/20\n",
      "7352/7352 - 1s - loss: 1.1579 - acc: 0.9215 - val_loss: 1.2685 - val_acc: 0.8029\n",
      "Epoch 11/20\n",
      "7352/7352 - 1s - loss: 1.1476 - acc: 0.9248 - val_loss: 1.2606 - val_acc: 0.8049\n",
      "Epoch 12/20\n",
      "7352/7352 - 1s - loss: 1.1394 - acc: 0.9268 - val_loss: 1.2561 - val_acc: 0.8154\n",
      "Epoch 13/20\n",
      "7352/7352 - 1s - loss: 1.1322 - acc: 0.9271 - val_loss: 1.2544 - val_acc: 0.8059\n",
      "Epoch 14/20\n",
      "7352/7352 - 0s - loss: 1.1262 - acc: 0.9282 - val_loss: 1.2494 - val_acc: 0.8124\n",
      "Epoch 15/20\n",
      "7352/7352 - 1s - loss: 1.1212 - acc: 0.9289 - val_loss: 1.2446 - val_acc: 0.8140\n",
      "Epoch 16/20\n",
      "7352/7352 - 0s - loss: 1.1165 - acc: 0.9319 - val_loss: 1.2413 - val_acc: 0.8144\n",
      "Epoch 17/20\n",
      "7352/7352 - 1s - loss: 1.1123 - acc: 0.9320 - val_loss: 1.2385 - val_acc: 0.8144\n",
      "Epoch 18/20\n",
      "7352/7352 - 1s - loss: 1.1087 - acc: 0.9342 - val_loss: 1.2353 - val_acc: 0.8144\n",
      "Epoch 19/20\n",
      "7352/7352 - 1s - loss: 1.1056 - acc: 0.9342 - val_loss: 1.2324 - val_acc: 0.8188\n",
      "Epoch 20/20\n",
      "7352/7352 - 0s - loss: 1.1027 - acc: 0.9358 - val_loss: 1.2303 - val_acc: 0.8188\n"
     ]
    }
   ],
   "source": [
    "# the actual training of the model\n",
    "history1=model1.fit(X_train,y_train, validation_data=(X_test, y_test), epochs=20,verbose=2)"
   ]
  },
  {
   "cell_type": "markdown",
   "metadata": {},
   "source": [
    "Let's check the accuracy of our trained model.\n",
    "\n",
    "We obtained an accuracy score of $\\approx 80\\%$. That is definitely not precise enough for accurate prediction!\n",
    "\n",
    "We can also see this by plotting the accuracies."
   ]
  },
  {
   "cell_type": "code",
   "execution_count": 16,
   "metadata": {},
   "outputs": [
    {
     "data": {
      "image/png": "[encoded data removed]",
      "text/plain": [
       "<Figure size 432x288 with 1 Axes>"
      ]
     },
     "metadata": {
      "needs_background": "light"
     },
     "output_type": "display_data"
    }
   ],
   "source": [
    "plt.title('Learning Curves (1 hidden layer) - acc: ' + str(history1.history['val_acc'][-1]))\n",
    "plt.xlabel('Epoch')\n",
    "plt.ylabel('accuracy')\n",
    "plt.plot(history1.history['acc'], label='train')\n",
    "plt.plot(history1.history['val_acc'], label='validation')\n",
    "plt.legend()\n",
    "plt.show()"
   ]
  },
  {
   "cell_type": "markdown",
   "metadata": {},
   "source": [
    "### Improvement by taking a two-hidden layer neural network\n",
    "\n",
    "We have seen that a one-hidden layer neural network is not precise enough. Therefore, we define a second model with two hidden layers.\n",
    "\n",
    "<img src=\"Images/NeuralNetwork2.png\" width=\"480\"/>"
   ]
  },
  {
   "cell_type": "code",
   "execution_count": 17,
   "metadata": {},
   "outputs": [],
   "source": [
    "model2 = tf.keras.models.Sequential([\n",
    "    tf.keras.layers.Dense(64, activation='sigmoid'),  # 64: number of hidden neurons (1st layer)\n",
    "    tf.keras.layers.Dense(64, activation='sigmoid'),  # 32: number of hidden neurons (2nd layer)\n",
    "    tf.keras.layers.Dense(6, activation='sigmoid')    # 6: 6 classes to predict\n",
    "\n",
    "])\n",
    "# compile the model\n",
    "model2.compile(optimizer='Adam',\n",
    "              loss=loss_fn,\n",
    "              metrics=['accuracy'])"
   ]
  },
  {
   "cell_type": "markdown",
   "metadata": {},
   "source": [
    "Let's train the second model for 20 epochs and see if it improves the accuracy."
   ]
  },
  {
   "cell_type": "code",
   "execution_count": 18,
   "metadata": {},
   "outputs": [
    {
     "name": "stdout",
     "output_type": "stream",
     "text": [
      "Train on 7352 samples, validate on 2947 samples\n",
      "Epoch 1/20\n",
      "7352/7352 - 1s - loss: 1.5340 - acc: 0.5899 - val_loss: 1.4620 - val_acc: 0.6264\n",
      "Epoch 2/20\n",
      "7352/7352 - 1s - loss: 1.3425 - acc: 0.7980 - val_loss: 1.3484 - val_acc: 0.7526\n",
      "Epoch 3/20\n",
      "7352/7352 - 1s - loss: 1.2360 - acc: 0.8840 - val_loss: 1.2851 - val_acc: 0.7920\n",
      "Epoch 4/20\n",
      "7352/7352 - 1s - loss: 1.1758 - acc: 0.9081 - val_loss: 1.2437 - val_acc: 0.8130\n",
      "Epoch 5/20\n",
      "7352/7352 - 1s - loss: 1.1379 - acc: 0.9245 - val_loss: 1.2158 - val_acc: 0.8375\n",
      "Epoch 6/20\n",
      "7352/7352 - 1s - loss: 1.1159 - acc: 0.9347 - val_loss: 1.2039 - val_acc: 0.8473\n",
      "Epoch 7/20\n",
      "7352/7352 - 1s - loss: 1.1022 - acc: 0.9429 - val_loss: 1.1939 - val_acc: 0.8439\n",
      "Epoch 8/20\n",
      "7352/7352 - 1s - loss: 1.0929 - acc: 0.9475 - val_loss: 1.1836 - val_acc: 0.8626\n",
      "Epoch 9/20\n",
      "7352/7352 - 1s - loss: 1.0868 - acc: 0.9493 - val_loss: 1.1802 - val_acc: 0.8616\n",
      "Epoch 10/20\n",
      "7352/7352 - 1s - loss: 1.0829 - acc: 0.9495 - val_loss: 1.1762 - val_acc: 0.8521\n",
      "Epoch 11/20\n",
      "7352/7352 - 1s - loss: 1.0799 - acc: 0.9494 - val_loss: 1.1751 - val_acc: 0.8548\n",
      "Epoch 12/20\n",
      "7352/7352 - 1s - loss: 1.0781 - acc: 0.9504 - val_loss: 1.1715 - val_acc: 0.8602\n",
      "Epoch 13/20\n",
      "7352/7352 - 1s - loss: 1.0770 - acc: 0.9499 - val_loss: 1.1725 - val_acc: 0.8571\n",
      "Epoch 14/20\n",
      "7352/7352 - 1s - loss: 1.0755 - acc: 0.9498 - val_loss: 1.1698 - val_acc: 0.8585\n",
      "Epoch 15/20\n",
      "7352/7352 - 1s - loss: 1.0743 - acc: 0.9509 - val_loss: 1.1694 - val_acc: 0.8531\n",
      "Epoch 16/20\n",
      "7352/7352 - 1s - loss: 1.0734 - acc: 0.9510 - val_loss: 1.1670 - val_acc: 0.8609\n",
      "Epoch 17/20\n",
      "7352/7352 - 1s - loss: 1.0728 - acc: 0.9506 - val_loss: 1.1668 - val_acc: 0.8609\n",
      "Epoch 18/20\n",
      "7352/7352 - 1s - loss: 1.0722 - acc: 0.9523 - val_loss: 1.1658 - val_acc: 0.8619\n",
      "Epoch 19/20\n",
      "7352/7352 - 1s - loss: 1.0721 - acc: 0.9531 - val_loss: 1.1679 - val_acc: 0.8568\n",
      "Epoch 20/20\n",
      "7352/7352 - 1s - loss: 1.0711 - acc: 0.9517 - val_loss: 1.1659 - val_acc: 0.8585\n",
      "[loss,accuracy]:  [1.1659216071777032, 0.8585002]\n"
     ]
    }
   ],
   "source": [
    "history2=model2.fit(X_train, y_train,validation_data=(X_test, y_test), epochs=20,verbose=2)\n",
    "my_loss=model2.evaluate(X_test,  y_test, verbose=False)\n",
    "print(\"[loss,accuracy]: \",my_loss)"
   ]
  },
  {
   "cell_type": "markdown",
   "metadata": {},
   "source": [
    "Again, we plot the results."
   ]
  },
  {
   "cell_type": "code",
   "execution_count": 19,
   "metadata": {},
   "outputs": [
    {
     "name": "stdout",
     "output_type": "stream",
     "text": [
      "2947/2947 - 0s - loss: 1.1659 - acc: 0.8585\n"
     ]
    },
    {
     "data": {
      "image/png": "[encoded data removed]",
      "text/plain": [
       "<Figure size 432x288 with 1 Axes>"
      ]
     },
     "metadata": {
      "needs_background": "light"
     },
     "output_type": "display_data"
    }
   ],
   "source": [
    "plt.title('Learning Curves (2 hidden layers) - accuracy val.: ' + str(model2.evaluate(X_test,  y_test, verbose=2)[1]))\n",
    "plt.xlabel('Epoch')\n",
    "plt.ylabel('accuracy')\n",
    "plt.plot(history2.history['acc'], label='train')\n",
    "plt.plot(history2.history['val_acc'], label='validation')\n",
    "plt.legend()\n",
    "plt.show()"
   ]
  },
  {
   "cell_type": "markdown",
   "metadata": {},
   "source": [
    "## 4) Discussion\n",
    "\n",
    "We have found a neural network by which we obtained an accuracy $\\approx 85\\%$ (i.e. almost 9 of 10 **new** data are predicted correctly). This seems to be poor but remember that we only had about 5,000 measurements for the train data. If we had 50,000 or even 500,000 measurements this would surely increase the accuracy value.\n",
    "\n",
    "A crucial point about neural networks is that there are several parameters that can be adjusted to improve the accuracy. In practical applications it is often a big issue to find the optimal parameters and it is ad-hoc unclear by which parameters to start.\n",
    "\n",
    "Here is a list of such parameters:\n",
    "\n",
    "- number of hidden layers\n",
    "- number of neurons in the hidden layer(s)\n",
    "- activation function\n",
    "- loss function loss_fn\n",
    "- optimizer\n",
    "- dropout (note, that we didn't use a dropout)\n",
    "\n",
    "Finally, and proably most important point: the results of a neural network cannot be interpreted in a natural way. We do not know what really happens inside the neural network, i.e. it is not replicable how specific patterns of the signal are kept. This is somehow ambivalent because this also means that a neural network does not need any expertise domain knowledge. **However, neural networks are a standard tool for practical applications in machine learning.**\n",
    "\n",
    "### Summary\n",
    "\n",
    "Let's summarize the advantages and disadvantages of *neural networks for classification*:\n",
    "\n",
    "**Pros:**\n",
    "\n",
    "- accurate results\n",
    "- short runtime\n",
    "- no expert domain knowledge of data required\n",
    "\n",
    "**Cons:**\n",
    "\n",
    "- results hard to interpret\n",
    "- unclear how to optimise the method (many parameters that can be adjusted)"
   ]
  },
  {
   "cell_type": "markdown",
   "metadata": {},
   "source": [
    "## 5) Acknowledgements\n",
    "\n",
    "We thank UCI repository for providing the UCI HAR dataset.\n",
    "\n",
    "## 6) Literature\n",
    "\n",
    "- Davide Anguita, Alessandro Ghio, Luca Oneto, Xavier Parra and Jorge L. Reyes-Ortiz. A Public Domain Dataset for Human Activity Recognition Using Smartphones. 21th European Symposium on Artificial Neural Networks, Computational Intelligence and Machine Learning, ESANN 2013. Bruges, Belgium 24-26 April 2013.\n",
    "- Fawaz, Hassan Ismail; Forestier, Germain; Weber, Jonathan; Idoumghar, Lhassane; Muller, Pierre-Alain (2019): Deep learning for time series classification: a review. In Data Min Knowl Disc 33 (4), pp. 917–963. DOI: 10.1007/s10618-019-00619-1."
   ]
  },
  {
   "cell_type": "code",
   "execution_count": null,
   "metadata": {},
   "outputs": [],
   "source": []
  }
 ],
 "metadata": {
  "kernelspec": {
   "display_name": "Python 3",
   "language": "python",
   "name": "python3"
  },
  "language_info": {
   "codemirror_mode": {
    "name": "ipython",
    "version": 3
   },
   "file_extension": ".py",
   "mimetype": "text/x-python",
   "name": "python",
   "nbconvert_exporter": "python",
   "pygments_lexer": "ipython3",
   "version": "3.7.3"
  }
 },
 "nbformat": 4,
 "nbformat_minor": 2
}
